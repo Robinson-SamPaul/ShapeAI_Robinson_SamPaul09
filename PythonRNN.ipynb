{
  "nbformat": 4,
  "nbformat_minor": 0,
  "metadata": {
    "colab": {
      "name": "h.ipynb",
      "provenance": [],
      "collapsed_sections": []
    },
    "kernelspec": {
      "name": "python3",
      "display_name": "Python 3"
    },
    "language_info": {
      "name": "python"
    }
  },
  "cells": [
    {
      "cell_type": "code",
      "metadata": {
        "id": "aVG8Yzedf1eu"
      },
      "source": [
        "import numpy as np\n",
        "import pandas as pd"
      ],
      "execution_count": null,
      "outputs": []
    },
    {
      "cell_type": "code",
      "metadata": {
        "id": "rO7ZyAMLgc7Y"
      },
      "source": [
        "path = \"/content/Uniqlo(FastRetailing) 2012-2016 Training - stocks2012-2016.csv\""
      ],
      "execution_count": null,
      "outputs": []
    },
    {
      "cell_type": "code",
      "metadata": {
        "colab": {
          "base_uri": "https://localhost:8080/",
          "height": 204
        },
        "id": "zK0OBunsgdDr",
        "outputId": "b7904e18-5ad7-4eaf-dfe9-a687803455dc"
      },
      "source": [
        "df = pd.read_csv(path)\n",
        "df.head()"
      ],
      "execution_count": null,
      "outputs": [
        {
          "output_type": "execute_result",
          "data": {
            "text/html": [
              "<div>\n",
              "<style scoped>\n",
              "    .dataframe tbody tr th:only-of-type {\n",
              "        vertical-align: middle;\n",
              "    }\n",
              "\n",
              "    .dataframe tbody tr th {\n",
              "        vertical-align: top;\n",
              "    }\n",
              "\n",
              "    .dataframe thead th {\n",
              "        text-align: right;\n",
              "    }\n",
              "</style>\n",
              "<table border=\"1\" class=\"dataframe\">\n",
              "  <thead>\n",
              "    <tr style=\"text-align: right;\">\n",
              "      <th></th>\n",
              "      <th>Date</th>\n",
              "      <th>Open</th>\n",
              "      <th>High</th>\n",
              "      <th>Low</th>\n",
              "      <th>Close</th>\n",
              "      <th>Volume</th>\n",
              "      <th>Stock Trading</th>\n",
              "    </tr>\n",
              "  </thead>\n",
              "  <tbody>\n",
              "    <tr>\n",
              "      <th>0</th>\n",
              "      <td>2016-12-30</td>\n",
              "      <td>42120</td>\n",
              "      <td>42330</td>\n",
              "      <td>41700</td>\n",
              "      <td>41830</td>\n",
              "      <td>610000</td>\n",
              "      <td>25628028000</td>\n",
              "    </tr>\n",
              "    <tr>\n",
              "      <th>1</th>\n",
              "      <td>2016-12-29</td>\n",
              "      <td>43000</td>\n",
              "      <td>43220</td>\n",
              "      <td>42540</td>\n",
              "      <td>42660</td>\n",
              "      <td>448400</td>\n",
              "      <td>19188227000</td>\n",
              "    </tr>\n",
              "    <tr>\n",
              "      <th>2</th>\n",
              "      <td>2016-12-28</td>\n",
              "      <td>43940</td>\n",
              "      <td>43970</td>\n",
              "      <td>43270</td>\n",
              "      <td>43270</td>\n",
              "      <td>339900</td>\n",
              "      <td>14780670000</td>\n",
              "    </tr>\n",
              "    <tr>\n",
              "      <th>3</th>\n",
              "      <td>2016-12-27</td>\n",
              "      <td>43140</td>\n",
              "      <td>43700</td>\n",
              "      <td>43140</td>\n",
              "      <td>43620</td>\n",
              "      <td>400100</td>\n",
              "      <td>17427993000</td>\n",
              "    </tr>\n",
              "    <tr>\n",
              "      <th>4</th>\n",
              "      <td>2016-12-26</td>\n",
              "      <td>43310</td>\n",
              "      <td>43660</td>\n",
              "      <td>43090</td>\n",
              "      <td>43340</td>\n",
              "      <td>358200</td>\n",
              "      <td>15547803000</td>\n",
              "    </tr>\n",
              "  </tbody>\n",
              "</table>\n",
              "</div>"
            ],
            "text/plain": [
              "         Date   Open   High    Low  Close  Volume  Stock Trading\n",
              "0  2016-12-30  42120  42330  41700  41830  610000    25628028000\n",
              "1  2016-12-29  43000  43220  42540  42660  448400    19188227000\n",
              "2  2016-12-28  43940  43970  43270  43270  339900    14780670000\n",
              "3  2016-12-27  43140  43700  43140  43620  400100    17427993000\n",
              "4  2016-12-26  43310  43660  43090  43340  358200    15547803000"
            ]
          },
          "metadata": {},
          "execution_count": 3
        }
      ]
    },
    {
      "cell_type": "code",
      "metadata": {
        "colab": {
          "base_uri": "https://localhost:8080/"
        },
        "id": "MT-ljXZjgdJR",
        "outputId": "6ae0a99b-6826-458f-f43c-b08e51cb165c"
      },
      "source": [
        "df = df[\"High\"]\n",
        "df.head()"
      ],
      "execution_count": null,
      "outputs": [
        {
          "output_type": "execute_result",
          "data": {
            "text/plain": [
              "0    42330\n",
              "1    43220\n",
              "2    43970\n",
              "3    43700\n",
              "4    43660\n",
              "Name: High, dtype: int64"
            ]
          },
          "metadata": {},
          "execution_count": 4
        }
      ]
    },
    {
      "cell_type": "code",
      "metadata": {
        "id": "huQEZl5egdO7"
      },
      "source": [
        "import matplotlib.pyplot as plt\n",
        "\n",
        "def plotSeries(data):\n",
        "\n",
        "  for df in data:\n",
        "\n",
        "    plt.plot(df)\n",
        "\n",
        "  plt.show()"
      ],
      "execution_count": null,
      "outputs": []
    },
    {
      "cell_type": "code",
      "metadata": {
        "id": "syns_At2gdTL"
      },
      "source": [
        "train = df[:int(0.8 * len(df))]\n",
        "\n",
        "test = df[int(0.8 * len(df)):]"
      ],
      "execution_count": null,
      "outputs": []
    },
    {
      "cell_type": "code",
      "metadata": {
        "id": "eqYK9VxXgdXd"
      },
      "source": [
        "def arrange(data, window = 10):\n",
        "\n",
        "  x = []\n",
        "  y = []\n",
        "\n",
        "  for i, val in enumerate(data):\n",
        "\n",
        "    if i < window:\n",
        "\n",
        "      continue\n",
        "\n",
        "    x.append((data[i - window: i - 1]).values.reshape(-1, 1))\n",
        "    y.append(data[i:i+1].values.reshape(-1, 1))\n",
        "\n",
        "  x = np.asarray(x)\n",
        "  y = np.asarray(y)\n",
        "\n",
        "  return x, y"
      ],
      "execution_count": null,
      "outputs": []
    },
    {
      "cell_type": "code",
      "metadata": {
        "colab": {
          "base_uri": "https://localhost:8080/"
        },
        "id": "1nRDod5rgdb3",
        "outputId": "420cb8d6-2408-491c-9272-ca11585ae1e1"
      },
      "source": [
        "X_train, Y_train = arrange(train, 15)\n",
        "\n",
        "print(\"X-Shape is {} and Y-Shape is {}\".format(X_train.shape, Y_train.shape))"
      ],
      "execution_count": null,
      "outputs": [
        {
          "output_type": "stream",
          "text": [
            "X-Shape is (965, 14, 1) and Y-Shape is (965, 1, 1)\n"
          ],
          "name": "stdout"
        }
      ]
    },
    {
      "cell_type": "code",
      "metadata": {
        "colab": {
          "base_uri": "https://localhost:8080/"
        },
        "id": "C6-orNVogdgP",
        "outputId": "050939aa-d59e-495a-b78b-f09136fdd61a"
      },
      "source": [
        "print(X_train[0])"
      ],
      "execution_count": null,
      "outputs": [
        {
          "output_type": "stream",
          "text": [
            "[[42330]\n",
            " [43220]\n",
            " [43970]\n",
            " [43700]\n",
            " [43660]\n",
            " [43840]\n",
            " [44370]\n",
            " [43630]\n",
            " [43150]\n",
            " [43550]\n",
            " [43880]\n",
            " [43440]\n",
            " [43300]\n",
            " [44000]]\n"
          ],
          "name": "stdout"
        }
      ]
    },
    {
      "cell_type": "code",
      "metadata": {
        "colab": {
          "base_uri": "https://localhost:8080/"
        },
        "id": "E5T1qY9Dgdj-",
        "outputId": "e0f1b2bd-a1ba-49f5-8d36-3e6df4a1f51f"
      },
      "source": [
        "print(Y_train[0])"
      ],
      "execution_count": null,
      "outputs": [
        {
          "output_type": "stream",
          "text": [
            "[[41560]]\n"
          ],
          "name": "stdout"
        }
      ]
    },
    {
      "cell_type": "code",
      "metadata": {
        "id": "qcFFGTPRgdok"
      },
      "source": [
        "import tensorflow as tf\n",
        "from tensorflow import keras\n",
        "from keras.models import Sequential\n",
        "from keras.layers import SimpleRNN, Dense, Input"
      ],
      "execution_count": null,
      "outputs": []
    },
    {
      "cell_type": "code",
      "metadata": {
        "colab": {
          "base_uri": "https://localhost:8080/"
        },
        "id": "XwFf4VWfgeSi",
        "outputId": "e99333ba-c063-45d0-d7db-2073b7128388"
      },
      "source": [
        "X_train.shape[1:]"
      ],
      "execution_count": null,
      "outputs": [
        {
          "output_type": "execute_result",
          "data": {
            "text/plain": [
              "(14, 1)"
            ]
          },
          "metadata": {},
          "execution_count": 12
        }
      ]
    },
    {
      "cell_type": "code",
      "metadata": {
        "id": "liIXkzcDgebD"
      },
      "source": [
        "Net = Sequential()\n",
        "Net.add(SimpleRNN(3, activation = 'relu', input_shape = X_train.shape[1:]))\n",
        "Net.add(Dense(1, activation = 'relu'))"
      ],
      "execution_count": null,
      "outputs": []
    },
    {
      "cell_type": "code",
      "metadata": {
        "colab": {
          "base_uri": "https://localhost:8080/"
        },
        "id": "tmDIt4jKgei3",
        "outputId": "b3c5e054-c7e3-4e6c-b904-67fb31b9d06d"
      },
      "source": [
        "Net.summary()"
      ],
      "execution_count": null,
      "outputs": [
        {
          "output_type": "stream",
          "text": [
            "Model: \"sequential\"\n",
            "_________________________________________________________________\n",
            "Layer (type)                 Output Shape              Param #   \n",
            "=================================================================\n",
            "simple_rnn (SimpleRNN)       (None, 3)                 15        \n",
            "_________________________________________________________________\n",
            "dense (Dense)                (None, 1)                 4         \n",
            "=================================================================\n",
            "Total params: 19\n",
            "Trainable params: 19\n",
            "Non-trainable params: 0\n",
            "_________________________________________________________________\n"
          ],
          "name": "stdout"
        }
      ]
    },
    {
      "cell_type": "code",
      "metadata": {
        "id": "P21tewVbgenV"
      },
      "source": [
        "Net.compile(loss = 'mean_squared_error', optimizer = 'adam', metrics = ['mse'])"
      ],
      "execution_count": null,
      "outputs": []
    },
    {
      "cell_type": "code",
      "metadata": {
        "colab": {
          "base_uri": "https://localhost:8080/"
        },
        "id": "Q5dGkq2YhS10",
        "outputId": "41fdf16a-d847-41d3-90e7-06f25efcd1ea"
      },
      "source": [
        "Net.fit(X_train, Y_train, epochs = 10)"
      ],
      "execution_count": null,
      "outputs": [
        {
          "output_type": "stream",
          "text": [
            "Epoch 1/10\n",
            "31/31 [==============================] - 1s 3ms/step - loss: 109455448.0000 - mse: 109455448.0000\n",
            "Epoch 2/10\n",
            "31/31 [==============================] - 0s 3ms/step - loss: 36767240.0000 - mse: 36767240.0000\n",
            "Epoch 3/10\n",
            "31/31 [==============================] - 0s 3ms/step - loss: 6718614.5000 - mse: 6718614.5000\n",
            "Epoch 4/10\n",
            "31/31 [==============================] - 0s 3ms/step - loss: 2193234.0000 - mse: 2193234.0000\n",
            "Epoch 5/10\n",
            "31/31 [==============================] - 0s 3ms/step - loss: 2080387.5000 - mse: 2080387.5000\n",
            "Epoch 6/10\n",
            "31/31 [==============================] - 0s 3ms/step - loss: 2075680.8750 - mse: 2075680.8750\n",
            "Epoch 7/10\n",
            "31/31 [==============================] - 0s 4ms/step - loss: 2073629.0000 - mse: 2073629.0000\n",
            "Epoch 8/10\n",
            "31/31 [==============================] - 0s 4ms/step - loss: 2074781.7500 - mse: 2074781.7500\n",
            "Epoch 9/10\n",
            "31/31 [==============================] - 0s 4ms/step - loss: 2069890.7500 - mse: 2069890.7500\n",
            "Epoch 10/10\n",
            "31/31 [==============================] - 0s 3ms/step - loss: 2075215.5000 - mse: 2075215.5000\n"
          ],
          "name": "stdout"
        },
        {
          "output_type": "execute_result",
          "data": {
            "text/plain": [
              "<keras.callbacks.History at 0x7f14c7490c10>"
            ]
          },
          "metadata": {},
          "execution_count": 16
        }
      ]
    },
    {
      "cell_type": "code",
      "metadata": {
        "colab": {
          "base_uri": "https://localhost:8080/"
        },
        "id": "44oL6SFthTLs",
        "outputId": "fe8419fd-8c35-4fd3-fee3-4bee498febda"
      },
      "source": [
        "X_test, Y_test = arrange(test, 10)\n",
        "pred = Net.predict(X_test)\n",
        "pred[:,0]"
      ],
      "execution_count": null,
      "outputs": [
        {
          "output_type": "stream",
          "text": [
            "WARNING:tensorflow:Model was constructed with shape (None, 14, 1) for input KerasTensor(type_spec=TensorSpec(shape=(None, 14, 1), dtype=tf.float32, name='simple_rnn_input'), name='simple_rnn_input', description=\"created by layer 'simple_rnn_input'\"), but it was called on an input with incompatible shape (None, 9, 1).\n"
          ],
          "name": "stdout"
        },
        {
          "output_type": "execute_result",
          "data": {
            "text/plain": [
              "array([18272.33  , 18164.68  , 18062.791 , 17790.646 , 17644.615 ,\n",
              "       17667.559 , 17784.512 , 17613.926 , 17351.047 , 17337.707 ,\n",
              "       17131.146 , 16857.676 , 16970.998 , 16924.633 , 16477.379 ,\n",
              "       16055.164 , 15936.105 , 15969.823 , 15931.012 , 15665.673 ,\n",
              "       15325.783 , 15459.907 , 15796.191 , 15757.894 , 15871.931 ,\n",
              "       16216.802 , 16333.532 , 16144.951 , 16102.4795, 16378.72  ,\n",
              "       16618.928 , 16832.275 , 16838.355 , 16645.127 , 16528.19  ,\n",
              "       16317.143 , 15934.149 , 15620.476 , 15477.823 , 15505.915 ,\n",
              "       15486.042 , 15006.855 , 14604.468 , 14952.479 , 16017.436 ,\n",
              "       17390.123 , 17955.4   , 17645.879 , 17131.36  , 16804.299 ,\n",
              "       16608.6   , 16416.527 , 16795.582 , 17087.828 , 16765.482 ,\n",
              "       16709.803 , 17045.988 , 17007.342 , 16736.402 , 16745.678 ,\n",
              "       16932.23  , 17287.271 , 17483.264 , 17035.582 , 16627.367 ,\n",
              "       16594.242 , 16707.916 , 16800.14  , 16657.88  , 16664.45  ,\n",
              "       16936.393 , 17098.463 , 17066.014 , 17117.377 , 17199.854 ,\n",
              "       17097.588 , 16781.006 , 16664.057 , 16859.904 , 16756.045 ,\n",
              "       16511.236 , 16515.285 , 16575.95  , 16314.022 , 15803.55  ,\n",
              "       15713.355 , 16000.886 , 16318.3955, 16304.249 , 15743.582 ,\n",
              "       15145.37  , 14951.713 , 14862.627 , 14740.761 , 14844.132 ,\n",
              "       14881.574 , 14769.065 , 14727.428 , 14578.819 , 14499.965 ,\n",
              "       14723.194 , 15061.846 , 15185.471 , 14957.951 , 14808.85  ,\n",
              "       14583.466 , 14095.207 , 14048.973 , 14184.612 , 14269.375 ,\n",
              "       14545.469 , 14833.908 , 14833.176 , 14680.202 , 14636.051 ,\n",
              "       14884.488 , 14873.672 , 14592.388 , 14369.397 , 14146.353 ,\n",
              "       14001.585 , 14132.542 , 14362.877 , 14413.585 , 14507.884 ,\n",
              "       14612.62  , 14379.929 , 14230.407 , 14329.746 , 14412.875 ,\n",
              "       14569.837 , 15109.546 , 15644.131 , 15721.163 , 16177.575 ,\n",
              "       16903.205 , 16915.568 , 16570.215 , 16576.709 , 16468.445 ,\n",
              "       16080.576 , 15554.969 , 15334.53  , 15662.732 , 15971.385 ,\n",
              "       15774.629 , 15426.863 , 15508.921 , 15731.955 , 15781.091 ,\n",
              "       15538.407 , 15287.824 , 15550.172 , 15972.631 , 16055.26  ,\n",
              "       16081.08  , 16525.582 , 16868.373 , 16861.193 , 16731.74  ,\n",
              "       16750.732 , 16869.291 , 17253.934 , 17556.115 , 17561.346 ,\n",
              "       17541.602 , 17405.693 , 17461.064 , 17058.285 , 15616.621 ,\n",
              "       15292.637 , 16150.195 , 16413.656 , 16397.18  , 16932.555 ,\n",
              "       17799.7   , 18203.03  , 17897.451 , 17285.182 , 16883.902 ,\n",
              "       16787.438 , 16786.951 , 16615.316 , 16556.643 , 16647.63  ,\n",
              "       16477.355 , 16295.18  , 16527.887 , 16779.629 , 16751.16  ,\n",
              "       16549.613 , 16402.146 , 16164.803 , 15622.136 , 15356.711 ,\n",
              "       15794.772 , 15898.588 , 15572.729 , 15587.832 , 15584.967 ,\n",
              "       15266.479 , 15178.829 , 15416.625 , 15516.379 , 15280.829 ,\n",
              "       15175.7295, 15421.157 , 15155.611 , 14649.966 , 14531.392 ,\n",
              "       14302.36  , 14153.67  , 14417.051 , 14808.29  , 14851.297 ,\n",
              "       14548.926 , 14365.8   , 14175.313 , 14008.055 , 13880.374 ,\n",
              "       13856.877 , 13883.798 , 13772.141 , 13772.87  , 13924.384 ,\n",
              "       13855.1045, 13595.734 , 13743.015 , 13966.647 , 13803.101 ,\n",
              "       13494.134 , 13398.097 , 13503.184 , 13490.632 , 13422.734 ,\n",
              "       13035.249 ], dtype=float32)"
            ]
          },
          "metadata": {},
          "execution_count": 17
        }
      ]
    },
    {
      "cell_type": "code",
      "metadata": {
        "colab": {
          "base_uri": "https://localhost:8080/",
          "height": 268
        },
        "id": "1hWaYJx5hbyy",
        "outputId": "470c9cde-7c5d-49be-8411-48527c7b9159"
      },
      "source": [
        "plotSeries([pred[:,0], Y_test[:,:,0]])"
      ],
      "execution_count": null,
      "outputs": [
        {
          "output_type": "display_data",
          "data": {
            "image/png": "[encoded data removed]",
            "text/plain": [
              "<Figure size 432x288 with 1 Axes>"
            ]
          },
          "metadata": {
            "needs_background": "light"
          }
        }
      ]
    }
  ]
}